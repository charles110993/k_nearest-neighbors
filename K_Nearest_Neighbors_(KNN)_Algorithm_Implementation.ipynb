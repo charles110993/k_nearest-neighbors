{
  "nbformat": 4,
  "nbformat_minor": 0,
  "metadata": {
    "colab": {
      "provenance": []
    },
    "kernelspec": {
      "name": "python3",
      "display_name": "Python 3"
    },
    "language_info": {
      "name": "python"
    }
  },
  "cells": [
    {
      "cell_type": "code",
      "source": [
        "import numpy as np\n",
        "import pandas as pd"
      ],
      "metadata": {
        "id": "QJ8Q7wxiLwDj"
      },
      "execution_count": 2,
      "outputs": []
    },
    {
      "cell_type": "code",
      "source": [
        "class KNN:\n",
        "    def __init__(self, k):\n",
        "        self.k = k"
      ],
      "metadata": {
        "id": "EXIEEhhFLy3l"
      },
      "execution_count": 3,
      "outputs": []
    },
    {
      "cell_type": "code",
      "source": [
        "def fit(self, X, y):\n",
        "        self.X_train = X\n",
        "        self.y_train = y"
      ],
      "metadata": {
        "id": "ASbWzwTCL18G"
      },
      "execution_count": 4,
      "outputs": []
    },
    {
      "cell_type": "code",
      "source": [
        "def euclidean_distance(self, point1, point2):\n",
        "        return np.sqrt(np.sum((point1 - point2) ** 2))"
      ],
      "metadata": {
        "id": "KDkld_EcL5OW"
      },
      "execution_count": 5,
      "outputs": []
    },
    {
      "cell_type": "code",
      "source": [
        "def predict(self, X):\n",
        "        predictions = []\n",
        "\n",
        "        for i in range(X.shape[0]):\n",
        "            distances = []\n",
        "\n",
        "            for j in range(self.X_train.shape[0]):\n",
        "                distance = self.euclidean_distance(X[i], self.X_train[j])\n",
        "                distances.append((distance, self.y_train[j]))\n",
        "\n",
        "            distances.sort(key=lambda x: x[0])\n",
        "            k_nearest_neighbors = distances[:self.k]\n",
        "\n",
        "            class_counts = np.bincount([neighbor[1] for neighbor in k_nearest_neighbors])\n",
        "            predicted_class = np.argmax(class_counts)\n",
        "            predictions.append(predicted_class)\n",
        "\n",
        "        return np.array(predictions)"
      ],
      "metadata": {
        "id": "hRunq3SmL8Ve"
      },
      "execution_count": 6,
      "outputs": []
    }
  ]
}